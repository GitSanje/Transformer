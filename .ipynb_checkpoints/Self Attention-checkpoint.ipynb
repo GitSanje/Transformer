{
 "cells": [
  {
   "cell_type": "markdown",
   "id": "01223b71",
   "metadata": {},
   "source": [
    "![](https://miro.medium.com/v2/resize:fit:875/1*_92bnsMJy8Bl539G4v93yg.gif)"
   ]
  },
  {
   "cell_type": "code",
   "execution_count": 2,
   "id": "a0e48ae2",
   "metadata": {},
   "outputs": [],
   "source": [
    "import numpy as np\n",
    "import math \n",
    "\n",
    "L, d_k ,d_v = 4,8,8\n",
    "\n",
    "q = np.random.randn(L, d_k)\n",
    "k = np.random.randn(L, d_k)\n",
    "v = np.random.randn(L, d_v)\n"
   ]
  },
  {
   "cell_type": "code",
   "execution_count": 3,
   "id": "d88fda15",
   "metadata": {},
   "outputs": [
    {
     "name": "stdout",
     "output_type": "stream",
     "text": [
      "Q\n",
      " [[ 0.35391628  0.29811165  1.74374942  0.49401492  1.23506836  1.0781339\n",
      "  -0.31504997 -0.13003731]\n",
      " [-0.6783163  -2.07328298  0.4264969   0.54275435  1.56437322 -2.15303075\n",
      "  -0.2025808   0.55266939]\n",
      " [ 1.30752224  2.6027505   0.32294548 -1.19820934  0.72827676 -1.3367512\n",
      "   0.50453506  2.10559274]\n",
      " [ 1.96277763 -0.60608402 -1.79906831 -1.49509905 -0.22018822 -0.17417203\n",
      "  -0.56061741  0.46733562]]\n",
      "K\n",
      " [[ 0.64247324 -1.28571389  0.6910175   1.20596936  0.74876066  0.63142896\n",
      "   0.9213336   1.12512927]\n",
      " [ 0.77003039  1.29600424  0.08537089  0.32914638  0.2668605   0.33353056\n",
      "   0.08772912  0.56151968]\n",
      " [-0.69696003  1.41675168  1.52874648  1.18751969 -0.89902838  1.18856761\n",
      "   0.39381927 -1.01613028]\n",
      " [-0.67824015 -0.53809154  1.02242085 -1.12853648 -0.01948393 -0.50685767\n",
      "   0.33609492 -0.58826917]]\n",
      "V\n",
      " [[ 1.17080083 -1.31100623  2.05664623 -1.85740238 -0.73034765  1.62474027\n",
      "   0.84411149  1.22544992]\n",
      " [-0.72579052  0.39324599 -0.34625651 -2.44292146 -0.24648649 -0.24003997\n",
      "  -0.82178191 -0.54245055]\n",
      " [ 1.12565127  1.08072848  1.21482485 -0.6749973  -1.88305931  0.13722185\n",
      "   0.69157586  0.56089032]\n",
      " [-1.09203913 -0.20252734  0.69683722  0.54943632  0.86033941  0.34938861\n",
      "  -3.74681228  1.05860557]]\n"
     ]
    }
   ],
   "source": [
    "print(\"Q\\n\", q)\n",
    "print(\"K\\n\", k)\n",
    "print(\"V\\n\", v)\n",
    "     "
   ]
  },
  {
   "attachments": {
    "image.png": {
     "image/png": "[encoded data removed]"
    }
   },
   "cell_type": "markdown",
   "id": "ff5ce323",
   "metadata": {},
   "source": [
    "![image.png](attachment:image.png)"
   ]
  },
  {
   "cell_type": "code",
   "execution_count": 4,
   "id": "a97cdf3b",
   "metadata": {},
   "outputs": [
    {
     "data": {
      "text/plain": [
       "array([[ 2.81378433,  1.55887291,  3.60722352,  0.22496614],\n",
       "       [ 3.42614577, -3.00232129, -5.77483355,  2.06681389],\n",
       "       [-1.19303649,  4.98828651, -2.33745657, -1.01065369],\n",
       "       [-1.27149679,  0.17660092, -7.45714258, -1.52800628]])"
      ]
     },
     "execution_count": 4,
     "metadata": {},
     "output_type": "execute_result"
    }
   ],
   "source": [
    "np.matmul(q, k.T)"
   ]
  },
  {
   "cell_type": "code",
   "execution_count": 5,
   "id": "3e044249",
   "metadata": {},
   "outputs": [
    {
     "data": {
      "text/plain": [
       "(1.4189312435092019, 0.6446935624667878, 10.79864176900544)"
      ]
     },
     "execution_count": 5,
     "metadata": {},
     "output_type": "execute_result"
    }
   ],
   "source": [
    "\n",
    "# Why we need sqrt(d_k) in denominator\n",
    "q.var(), k.var(), np.matmul(q, k.T).var()"
   ]
  },
  {
   "cell_type": "code",
   "execution_count": 6,
   "id": "8515f9f6",
   "metadata": {},
   "outputs": [
    {
     "data": {
      "text/plain": [
       "(1.4189312435092019, 0.6446935624667878, 1.3498302211256799)"
      ]
     },
     "execution_count": 6,
     "metadata": {},
     "output_type": "execute_result"
    }
   ],
   "source": [
    "\n",
    "scaled = np.matmul(q, k.T) / math.sqrt(d_k)\n",
    "q.var(), k.var(), scaled.var()"
   ]
  },
  {
   "cell_type": "code",
   "execution_count": 7,
   "id": "dc44665e",
   "metadata": {},
   "outputs": [
    {
     "data": {
      "text/plain": [
       "array([[ 0.99482299,  0.5511448 ,  1.27534611,  0.07953754],\n",
       "       [ 1.21132545, -1.06148087, -2.04171198,  0.73072906],\n",
       "       [-0.4218021 ,  1.76362561, -0.8264157 , -0.35732004],\n",
       "       [-0.449542  ,  0.06243785, -2.63649804, -0.5402318 ]])"
      ]
     },
     "execution_count": 7,
     "metadata": {},
     "output_type": "execute_result"
    }
   ],
   "source": [
    "scaled"
   ]
  },
  {
   "cell_type": "markdown",
   "id": "3e5e39e7",
   "metadata": {},
   "source": [
    "Masking\n",
    "\n",
    "This is to ensure words don't get context from words generated in the future.\n",
    "\n",
    "Not required in the encoders, but required int he decoders"
   ]
  },
  {
   "cell_type": "code",
   "execution_count": 8,
   "id": "811eb052",
   "metadata": {},
   "outputs": [
    {
     "data": {
      "text/plain": [
       "array([[1., 0., 0., 0.],\n",
       "       [1., 1., 0., 0.],\n",
       "       [1., 1., 1., 0.],\n",
       "       [1., 1., 1., 1.]])"
      ]
     },
     "execution_count": 8,
     "metadata": {},
     "output_type": "execute_result"
    }
   ],
   "source": [
    "mask = np.tril(np.ones( (L, L) ))\n",
    "mask"
   ]
  },
  {
   "cell_type": "code",
   "execution_count": 9,
   "id": "33d7dd61",
   "metadata": {},
   "outputs": [],
   "source": [
    "mask[mask == 0] = -np.infty\n",
    "mask[mask == 1] = 0\n",
    "     "
   ]
  },
  {
   "cell_type": "code",
   "execution_count": 10,
   "id": "c0dd7914",
   "metadata": {},
   "outputs": [
    {
     "data": {
      "text/plain": [
       "array([[  0., -inf, -inf, -inf],\n",
       "       [  0.,   0., -inf, -inf],\n",
       "       [  0.,   0.,   0., -inf],\n",
       "       [  0.,   0.,   0.,   0.]])"
      ]
     },
     "execution_count": 10,
     "metadata": {},
     "output_type": "execute_result"
    }
   ],
   "source": [
    "\n",
    "mask\n",
    "     "
   ]
  },
  {
   "cell_type": "code",
   "execution_count": 11,
   "id": "c1cab166",
   "metadata": {},
   "outputs": [
    {
     "data": {
      "text/plain": [
       "array([[ 0.99482299,        -inf,        -inf,        -inf],\n",
       "       [ 1.21132545, -1.06148087,        -inf,        -inf],\n",
       "       [-0.4218021 ,  1.76362561, -0.8264157 ,        -inf],\n",
       "       [-0.449542  ,  0.06243785, -2.63649804, -0.5402318 ]])"
      ]
     },
     "execution_count": 11,
     "metadata": {},
     "output_type": "execute_result"
    }
   ],
   "source": [
    "scaled + mask"
   ]
  },
  {
   "attachments": {
    "image.png": {
     "image/png": "[encoded data removed]"
    }
   },
   "cell_type": "markdown",
   "id": "ed8febf4",
   "metadata": {},
   "source": [
    "![image.png](attachment:image.png)"
   ]
  },
  {
   "cell_type": "code",
   "execution_count": 12,
   "id": "ce0ee1d6",
   "metadata": {},
   "outputs": [],
   "source": [
    "def softmax(x):\n",
    "    \n",
    "    return ( np.exp(x).T / np.sum(np.exp(x), axis = -1)).T #-1 last axis"
   ]
  },
  {
   "cell_type": "code",
   "execution_count": 13,
   "id": "8d0592b4",
   "metadata": {},
   "outputs": [],
   "source": [
    "attention = softmax(scaled + mask)"
   ]
  },
  {
   "cell_type": "code",
   "execution_count": 14,
   "id": "d0a6fefe",
   "metadata": {},
   "outputs": [
    {
     "data": {
      "text/plain": [
       "array([[1.        , 0.        , 0.        , 0.        ],\n",
       "       [0.90659969, 0.09340031, 0.        , 0.        ],\n",
       "       [0.09468185, 0.84214315, 0.063175  , 0.        ],\n",
       "       [0.27069824, 0.45168478, 0.03038803, 0.24722896]])"
      ]
     },
     "execution_count": 14,
     "metadata": {},
     "output_type": "execute_result"
    }
   ],
   "source": [
    "# my name is sanjay\n",
    "# To make sure that no word able to get context from the words that come after it \n",
    "attention # my only focus on 1st word , name only focus on my and name and so on"
   ]
  },
  {
   "cell_type": "code",
   "execution_count": 17,
   "id": "a6a70df8",
   "metadata": {},
   "outputs": [
    {
     "data": {
      "text/plain": [
       "array([[ 1.17080083, -1.31100623,  2.05664623, -1.85740238, -0.73034765,\n",
       "         1.62474027,  0.84411149,  1.22544992],\n",
       "       [ 0.99365861, -1.15182854,  1.83221437, -1.91209004, -0.68515487,\n",
       "         1.45056921,  0.68851653,  1.06032747],\n",
       "       [-0.4292529 ,  0.27531595, -0.02012392, -2.27579482, -0.39568985,\n",
       "        -0.03964561, -0.56844566, -0.3053589 ],\n",
       "       [-0.24667219, -0.19449326,  0.60952619, -1.49090124, -0.15355965,\n",
       "         0.42194081, -1.04799178,  0.36547278]])"
      ]
     },
     "execution_count": 17,
     "metadata": {},
     "output_type": "execute_result"
    }
   ],
   "source": [
    "\n",
    "new_v = np.matmul(attention, v)\n",
    "new_v #new set of value that should encapsulate the context words"
   ]
  },
  {
   "cell_type": "code",
   "execution_count": 16,
   "id": "587b288c",
   "metadata": {
    "scrolled": true
   },
   "outputs": [
    {
     "data": {
      "text/plain": [
       "array([[ 1.17080083, -1.31100623,  2.05664623, -1.85740238, -0.73034765,\n",
       "         1.62474027,  0.84411149,  1.22544992],\n",
       "       [-0.72579052,  0.39324599, -0.34625651, -2.44292146, -0.24648649,\n",
       "        -0.24003997, -0.82178191, -0.54245055],\n",
       "       [ 1.12565127,  1.08072848,  1.21482485, -0.6749973 , -1.88305931,\n",
       "         0.13722185,  0.69157586,  0.56089032],\n",
       "       [-1.09203913, -0.20252734,  0.69683722,  0.54943632,  0.86033941,\n",
       "         0.34938861, -3.74681228,  1.05860557]])"
      ]
     },
     "execution_count": 16,
     "metadata": {},
     "output_type": "execute_result"
    }
   ],
   "source": [
    "v"
   ]
  },
  {
   "cell_type": "code",
   "execution_count": 21,
   "id": "29efc29d",
   "metadata": {},
   "outputs": [],
   "source": [
    "\n",
    "def softmax(x):\n",
    "    return (np.exp(x).T / np.sum(np.exp(x), axis=-1)).T\n",
    "\n",
    "\n",
    "def scaled_dot_product_attention(q, k, v, mask=None):\n",
    "    \n",
    "    d_k = q.shape[-1]\n",
    "     \n",
    "    scaled = np.matmul(q, k.T) / math.sqrt(d_k)\n",
    "    if mask is not None:\n",
    "        scaled = scaled + mask\n",
    "    attention = softmax(scaled)\n",
    "    out = np.matmul(attention, v)\n",
    "    return out, attention "
   ]
  },
  {
   "cell_type": "code",
   "execution_count": 22,
   "id": "90e980e6",
   "metadata": {},
   "outputs": [
    {
     "name": "stdout",
     "output_type": "stream",
     "text": [
      "Q\n",
      " [[ 0.35391628  0.29811165  1.74374942  0.49401492  1.23506836  1.0781339\n",
      "  -0.31504997 -0.13003731]\n",
      " [-0.6783163  -2.07328298  0.4264969   0.54275435  1.56437322 -2.15303075\n",
      "  -0.2025808   0.55266939]\n",
      " [ 1.30752224  2.6027505   0.32294548 -1.19820934  0.72827676 -1.3367512\n",
      "   0.50453506  2.10559274]\n",
      " [ 1.96277763 -0.60608402 -1.79906831 -1.49509905 -0.22018822 -0.17417203\n",
      "  -0.56061741  0.46733562]]\n",
      "K\n",
      " [[ 0.64247324 -1.28571389  0.6910175   1.20596936  0.74876066  0.63142896\n",
      "   0.9213336   1.12512927]\n",
      " [ 0.77003039  1.29600424  0.08537089  0.32914638  0.2668605   0.33353056\n",
      "   0.08772912  0.56151968]\n",
      " [-0.69696003  1.41675168  1.52874648  1.18751969 -0.89902838  1.18856761\n",
      "   0.39381927 -1.01613028]\n",
      " [-0.67824015 -0.53809154  1.02242085 -1.12853648 -0.01948393 -0.50685767\n",
      "   0.33609492 -0.58826917]]\n",
      "V\n",
      " [[ 1.17080083 -1.31100623  2.05664623 -1.85740238 -0.73034765  1.62474027\n",
      "   0.84411149  1.22544992]\n",
      " [-0.72579052  0.39324599 -0.34625651 -2.44292146 -0.24648649 -0.24003997\n",
      "  -0.82178191 -0.54245055]\n",
      " [ 1.12565127  1.08072848  1.21482485 -0.6749973  -1.88305931  0.13722185\n",
      "   0.69157586  0.56089032]\n",
      " [-1.09203913 -0.20252734  0.69683722  0.54943632  0.86033941  0.34938861\n",
      "  -3.74681228  1.05860557]]\n",
      "New V\n",
      " [[ 1.17080083 -1.31100623  2.05664623 -1.85740238 -0.73034765  1.62474027\n",
      "   0.84411149  1.22544992]\n",
      " [ 0.99365861 -1.15182854  1.83221437 -1.91209004 -0.68515487  1.45056921\n",
      "   0.68851653  1.06032747]\n",
      " [-0.4292529   0.27531595 -0.02012392 -2.27579482 -0.39568985 -0.03964561\n",
      "  -0.56844566 -0.3053589 ]\n",
      " [-0.24667219 -0.19449326  0.60952619 -1.49090124 -0.15355965  0.42194081\n",
      "  -1.04799178  0.36547278]]\n",
      "Attention\n",
      " [[1.         0.         0.         0.        ]\n",
      " [0.90659969 0.09340031 0.         0.        ]\n",
      " [0.09468185 0.84214315 0.063175   0.        ]\n",
      " [0.27069824 0.45168478 0.03038803 0.24722896]]\n"
     ]
    }
   ],
   "source": [
    "\n",
    "values, attention = scaled_dot_product_attention(q, k, v, mask=mask)\n",
    "print(\"Q\\n\", q)\n",
    "print(\"K\\n\", k)\n",
    "print(\"V\\n\", v)\n",
    "print(\"New V\\n\", values)\n",
    "print(\"Attention\\n\", attention)"
   ]
  }
 ],
 "metadata": {
  "kernelspec": {
   "display_name": "Python 3 (ipykernel)",
   "language": "python",
   "name": "python3"
  },
  "language_info": {
   "codemirror_mode": {
    "name": "ipython",
    "version": 3
   },
   "file_extension": ".py",
   "mimetype": "text/x-python",
   "name": "python",
   "nbconvert_exporter": "python",
   "pygments_lexer": "ipython3",
   "version": "3.10.11"
  }
 },
 "nbformat": 4,
 "nbformat_minor": 5
}
